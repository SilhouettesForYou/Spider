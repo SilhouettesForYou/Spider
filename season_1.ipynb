{
 "cells": [
  {
   "cell_type": "markdown",
   "metadata": {},
   "source": [
    "## Import"
   ]
  },
  {
   "cell_type": "code",
   "execution_count": 57,
   "metadata": {},
   "outputs": [],
   "source": [
    "import os\n",
    "import re\n",
    "import requests\n",
    "import urllib\n",
    "from bs4 import BeautifulSoup"
   ]
  },
  {
   "cell_type": "markdown",
   "metadata": {},
   "source": [
    "### Get all pages"
   ]
  },
  {
   "cell_type": "code",
   "execution_count": 59,
   "metadata": {
    "scrolled": true
   },
   "outputs": [],
   "source": [
    "dir_of_images = './season_1/'\n",
    "if not os.path.exists(dir_of_images):\n",
    "    os.makedirs(dir_of_images)\n",
    "\n",
    "pages = []\n",
    "index = 'http://sny333.com/'\n",
    "post_url = 'forum.php?mod=forumdisplay&fid=36&filter=typeid&typeid=365&mobile=2'\n",
    "pre_page, next_page = post_url, post_url\n",
    "while True:\n",
    "    pages.append(index + next_page)\n",
    "    res = requests.get(index + pre_page)\n",
    "    soup = BeautifulSoup(res.text, 'html.parser')\n",
    "    if len(soup.select('.nxt')) is 0:\n",
    "        break\n",
    "    next_page = soup.select('.nxt')[0]['href']\n",
    "    pre_page = next_page"
   ]
  },
  {
   "cell_type": "markdown",
   "metadata": {},
   "source": [
    "### Analysis urls"
   ]
  },
  {
   "cell_type": "code",
   "execution_count": null,
   "metadata": {
    "scrolled": true
   },
   "outputs": [],
   "source": [
    "def extract_imgs(url, page):\n",
    "    res = requests.get(url)\n",
    "    soup = BeautifulSoup(res.text, 'html.parser')\n",
    "    pattern = 'attachment'\n",
    "    x = 1\n",
    "    for img_link in soup.select('img'):\n",
    "        link = img_link.get('src')\n",
    "        if re.search(pattern, link):\n",
    "            image = requests.get(url + link)\n",
    "            name = dir_of_images + page + '-' + str(x)\n",
    "            if link.endswith('.jpg'):\n",
    "                name += '.jpg'\n",
    "            elif link.endswith('.gif'):\n",
    "                name += '.gif'\n",
    "            with open(name, 'wb') as f:\n",
    "                f.write(image.content)\n",
    "            x += 1\n",
    "\n",
    "\n",
    "for i in range(len(pages)):\n",
    "    res = requests.get(pages[i])\n",
    "    soup = BeautifulSoup(res.text, 'html.parser')\n",
    "    pattern = 'mod=viewthread'\n",
    "    j = 0\n",
    "    for link in soup.find_all('a'):\n",
    "        link_text = link.get('href')\n",
    "        if re.search(pattern, link_text):\n",
    "            extract_imgs(index + link_text, str(i + 1) + '-' + str(j + 1))\n",
    "            j += 1"
   ]
  },
  {
   "cell_type": "code",
   "execution_count": null,
   "metadata": {},
   "outputs": [],
   "source": []
  }
 ],
 "metadata": {
  "kernelspec": {
   "display_name": "Python 3",
   "language": "python",
   "name": "python3"
  },
  "language_info": {
   "codemirror_mode": {
    "name": "ipython",
    "version": 3
   },
   "file_extension": ".py",
   "mimetype": "text/x-python",
   "name": "python",
   "nbconvert_exporter": "python",
   "pygments_lexer": "ipython3",
   "version": "3.6.6"
  },
  "toc": {
   "base_numbering": 1,
   "nav_menu": {},
   "number_sections": true,
   "sideBar": true,
   "skip_h1_title": false,
   "title_cell": "Table of Contents",
   "title_sidebar": "Contents",
   "toc_cell": false,
   "toc_position": {},
   "toc_section_display": true,
   "toc_window_display": false
  }
 },
 "nbformat": 4,
 "nbformat_minor": 2
}
